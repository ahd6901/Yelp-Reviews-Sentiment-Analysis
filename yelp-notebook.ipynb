{
 "cells": [
  {
   "cell_type": "code",
   "execution_count": 1,
   "id": "dba63d5c-5ba2-4224-8b01-8448c4afefb8",
   "metadata": {
    "execution": {
     "iopub.execute_input": "2022-10-12T04:23:22.807211Z",
     "iopub.status.busy": "2022-10-12T04:23:22.806820Z",
     "iopub.status.idle": "2022-10-12T04:23:53.751558Z",
     "shell.execute_reply": "2022-10-12T04:23:53.750927Z",
     "shell.execute_reply.started": "2022-10-12T04:23:22.807169Z"
    }
   },
   "outputs": [
    {
     "data": {
      "application/vnd.jupyter.widget-view+json": {
       "model_id": "4e84253d60ad4bd9a7e8c3139e81fc4f",
       "version_major": 2,
       "version_minor": 0
      },
      "text/plain": [
       "VBox()"
      ]
     },
     "metadata": {},
     "output_type": "display_data"
    },
    {
     "name": "stdout",
     "output_type": "stream",
     "text": [
      "Starting Spark application\n"
     ]
    },
    {
     "data": {
      "text/html": [
       "<table>\n",
       "<tr><th>ID</th><th>YARN Application ID</th><th>Kind</th><th>State</th><th>Spark UI</th><th>Driver log</th><th>Current session?</th></tr><tr><td>2</td><td>application_1665543743940_0004</td><td>pyspark</td><td>idle</td><td><a target=\"_blank\" href=\"http://ip-172-31-86-62.ec2.internal:20888/proxy/application_1665543743940_0004/\" >Link</a></td><td><a target=\"_blank\" href=\"http://ip-172-31-91-33.ec2.internal:8042/node/containerlogs/container_1665543743940_0004_01_000001/livy\" >Link</a></td><td>✔</td></tr></table>"
      ],
      "text/plain": [
       "<IPython.core.display.HTML object>"
      ]
     },
     "metadata": {},
     "output_type": "display_data"
    },
    {
     "data": {
      "application/vnd.jupyter.widget-view+json": {
       "model_id": "",
       "version_major": 2,
       "version_minor": 0
      },
      "text/plain": [
       "FloatProgress(value=0.0, bar_style='info', description='Progress:', layout=Layout(height='25px', width='50%'),…"
      ]
     },
     "metadata": {},
     "output_type": "display_data"
    },
    {
     "name": "stdout",
     "output_type": "stream",
     "text": [
      "SparkSession available as 'spark'.\n"
     ]
    },
    {
     "data": {
      "application/vnd.jupyter.widget-view+json": {
       "model_id": "",
       "version_major": 2,
       "version_minor": 0
      },
      "text/plain": [
       "FloatProgress(value=0.0, bar_style='info', description='Progress:', layout=Layout(height='25px', width='50%'),…"
      ]
     },
     "metadata": {},
     "output_type": "display_data"
    },
    {
     "name": "stdout",
     "output_type": "stream",
     "text": [
      "<SparkContext master=yarn appName=livy-session-2>"
     ]
    }
   ],
   "source": [
    "from pyspark.sql import SparkSession\n",
    "import pyspark.sql.functions as fn\n",
    "sc"
   ]
  },
  {
   "cell_type": "code",
   "execution_count": 4,
   "id": "f47707fa-e653-495a-bc88-d7b67525cc59",
   "metadata": {
    "execution": {
     "iopub.execute_input": "2022-10-12T04:25:42.283706Z",
     "iopub.status.busy": "2022-10-12T04:25:42.283465Z",
     "iopub.status.idle": "2022-10-12T04:25:42.557539Z",
     "shell.execute_reply": "2022-10-12T04:25:42.556731Z",
     "shell.execute_reply.started": "2022-10-12T04:25:42.283680Z"
    },
    "tags": []
   },
   "outputs": [
    {
     "data": {
      "application/vnd.jupyter.widget-view+json": {
       "model_id": "f278bfde1b4343bcbb96d6e33308f071",
       "version_major": 2,
       "version_minor": 0
      },
      "text/plain": [
       "VBox()"
      ]
     },
     "metadata": {},
     "output_type": "display_data"
    },
    {
     "data": {
      "application/vnd.jupyter.widget-view+json": {
       "model_id": "",
       "version_major": 2,
       "version_minor": 0
      },
      "text/plain": [
       "FloatProgress(value=0.0, bar_style='info', description='Progress:', layout=Layout(height='25px', width='50%'),…"
      ]
     },
     "metadata": {},
     "output_type": "display_data"
    },
    {
     "name": "stdout",
     "output_type": "stream",
     "text": [
      "{'Sentiment': 'NEUTRAL', 'SentimentScore': {'Positive': 0.3396611511707306, 'Negative': 0.15249323844909668, 'Neutral': 0.43417444825172424, 'Mixed': 0.0736711174249649}, 'ResponseMetadata': {'RequestId': 'db249b21-0f04-4ef4-a676-3ac4442333a3', 'HTTPStatusCode': 200, 'HTTPHeaders': {'x-amzn-requestid': 'db249b21-0f04-4ef4-a676-3ac4442333a3', 'content-type': 'application/x-amz-json-1.1', 'content-length': '160', 'date': 'Wed, 12 Oct 2022 04:25:41 GMT'}, 'RetryAttempts': 0}}"
     ]
    }
   ],
   "source": [
    "sc.install_pypi_package('boto3')\n",
    "import boto3\n",
    "comprehend= boto3.client('comprehend', region_name='us-east-1')\n",
    "print(comprehend.detect_sentiment(Text='Blackpink in your area', LanguageCode='en'))\n",
    "comprehend.close()"
   ]
  },
  {
   "cell_type": "markdown",
   "id": "05a6bcfc-cfd2-4ac8-9c9d-d1cab399d230",
   "metadata": {},
   "source": [
    "### Load business.json and review.json from S3"
   ]
  },
  {
   "cell_type": "code",
   "execution_count": 12,
   "id": "56f54bc0-523d-46fd-95ff-e81261e694b0",
   "metadata": {
    "execution": {
     "iopub.execute_input": "2022-10-12T04:53:40.050778Z",
     "iopub.status.busy": "2022-10-12T04:53:40.050541Z",
     "iopub.status.idle": "2022-10-12T04:53:49.348918Z",
     "shell.execute_reply": "2022-10-12T04:53:49.348208Z",
     "shell.execute_reply.started": "2022-10-12T04:53:40.050753Z"
    },
    "tags": []
   },
   "outputs": [
    {
     "data": {
      "application/vnd.jupyter.widget-view+json": {
       "model_id": "37df75ed092a4e07af1089a0db4aa819",
       "version_major": 2,
       "version_minor": 0
      },
      "text/plain": [
       "VBox()"
      ]
     },
     "metadata": {},
     "output_type": "display_data"
    },
    {
     "data": {
      "application/vnd.jupyter.widget-view+json": {
       "model_id": "",
       "version_major": 2,
       "version_minor": 0
      },
      "text/plain": [
       "FloatProgress(value=0.0, bar_style='info', description='Progress:', layout=Layout(height='25px', width='50%'),…"
      ]
     },
     "metadata": {},
     "output_type": "display_data"
    },
    {
     "name": "stdout",
     "output_type": "stream",
     "text": [
      "['attributes', 'business_id', 'categories', 'city', 'full_address', 'hours', 'latitude', 'longitude', 'name', 'neighborhoods', 'open', 'review_count', 'stars', 'state', 'type']\n",
      "+--------------------+--------------------+--------------------+----------+--------------------+--------------------+----------+-----------+--------------------+-------------+-----+------------+-----+-----+--------+\n",
      "|          attributes|         business_id|          categories|      city|        full_address|               hours|  latitude|  longitude|                name|neighborhoods| open|review_count|stars|state|    type|\n",
      "+--------------------+--------------------+--------------------+----------+--------------------+--------------------+----------+-----------+--------------------+-------------+-----+------------+-----+-----+--------+\n",
      "|[,,,,,,,, true,,,...|vcNAWiLM4dR7D2nww...|[Doctors, Health ...|   Phoenix|4840 E Indian Sch...|[[17:00, 08:00], ...| 33.499313|-111.983758|   Eric Goldberg, MD|           []| true|           7|  3.5|   AZ|business|\n",
      "|[true,,, none, [f...|JwUE5GmEO-sH1FuwJ...|       [Restaurants]| De Forest|6162 US Highway 5...|            [,,,,,,]| 43.238893| -89.335844|Pine Cone Restaurant|           []| true|          26|  4.0|   WI|business|\n",
      "|[true,,,, [true, ...|uGykseHzyS5xAMWoN...|[American (Tradit...| De Forest|505 W North St\n",
      "De...|[[22:00, 06:00], ...| 43.252267| -89.353437|Deforest Family R...|           []| true|          16|  4.0|   WI|business|\n",
      "|[true,,,,, casual...|LRKJF43s9-3jG9Lgx...|[Food, Ice Cream ...| De Forest|4910 County Rd V\n",
      "...|[[22:00, 10:30], ...| 43.251045| -89.374983|            Culver's|           []| true|           7|  4.5|   WI|business|\n",
      "|[,,,,, casual,,,,...|RgDg-k9S5YD_BaxMc...|[Chinese, Restaur...| De Forest|631 S Main St\n",
      "De ...|[[22:30, 11:00], ...|43.2408748|-89.3437217|Chang Jiang Chine...|           []| true|           3|  4.0|   WI|business|\n",
      "|[,,,,,,,,,,,,,,,,...|oLctHIA1AxmsgOuu4...|[Television Stati...|Mc Farland|4156 County Rd B\n",
      "...|            [,,,,,,]|42.9685074|-89.3229199|Charter Communica...|           []|false|          10|  1.5|   WI|business|\n",
      "|[,,,,,,,,,,,,,,,,...|ZW2WeP2Hp20tq0RG1...|[Home Services, H...|Mc Farland|4709 Triangle St\n",
      "...|            [,,,,,,]|43.0303561|-89.2985442| Air Quality Systems|           []| true|           4|  2.0|   WI|business|\n",
      "|[,,,,,,,,,,,,,,,,...|95p9Xg358BezJyk1w...|[Libraries, Publi...|Mc Farland|5114 Farwell St\n",
      "M...|[[17:30, 09:00], ...| 43.014093| -89.294175|McFarland Public ...|           []| true|           4|  2.5|   WI|business|\n",
      "|[true,,, full_bar...|rdAdANPNOcvUtoFgc...|[American (Tradit...|Mc Farland|4412 Siggelkow Rd...|[[02:00, 06:00], ...|43.0256436|-89.3061344|Green Lantern Res...|           []| true|          33|  3.5|   WI|business|\n",
      "|[,,,,,,,,,,,,,,,,...|ZlhAvs_6ryi4_efZ1...|[Veterinarians, P...|Mc Farland|4811 Larson Beach...|[[18:00, 07:30], ...| 43.017124| -89.299119|Spartan Animal Ho...|           []| true|           3|  4.5|   WI|business|\n",
      "+--------------------+--------------------+--------------------+----------+--------------------+--------------------+----------+-----------+--------------------+-------------+-----+------------+-----+-----+--------+\n",
      "only showing top 10 rows\n",
      "\n",
      "['business_id', 'date', 'review_id', 'stars', 'text', 'type', 'user_id', 'votes']\n",
      "+--------------------+----------+--------------------+-----+--------------------+------+--------------------+---------+\n",
      "|         business_id|      date|           review_id|stars|                text|  type|             user_id|    votes|\n",
      "+--------------------+----------+--------------------+-----+--------------------+------+--------------------+---------+\n",
      "|vcNAWiLM4dR7D2nww...|2007-05-17|15SdjuK7DmYqUAj6r...|    5|dr. goldberg offe...|review|Xqd0DzHaiyRqVH3WR...|[1, 0, 2]|\n",
      "|vcNAWiLM4dR7D2nww...|2010-03-22|RF6UnRTtG7tWMcrO2...|    2|Unfortunately, th...|review|H1kH6QZV7Le4zqTRN...|[0, 0, 2]|\n",
      "|vcNAWiLM4dR7D2nww...|2012-02-14|-TsVN230RCkLYKBeL...|    4|Dr. Goldberg has ...|review|zvJCcrpm2yOZrxKff...|[1, 0, 1]|\n",
      "|vcNAWiLM4dR7D2nww...|2012-03-02|dNocEAyUucjT371NN...|    4|Been going to Dr....|review|KBLW4wJA_fwoWmMhi...|[0, 0, 0]|\n",
      "|vcNAWiLM4dR7D2nww...|2012-05-15|ebcN2aqmNUuYNoyvQ...|    4|Got a letter in t...|review|zvJCcrpm2yOZrxKff...|[1, 0, 2]|\n",
      "|vcNAWiLM4dR7D2nww...|2013-04-19|_ePLBPrkrf4bhyiKW...|    1|I don't know what...|review|Qrs3EICADUKNFoUq2...|[0, 0, 0]|\n",
      "|vcNAWiLM4dR7D2nww...|2014-01-02|kMu0knsSUFW2DZXqK...|    5|Top notch doctor ...|review|jE5xVugujSaskAoh2...|[0, 0, 0]|\n",
      "|vcNAWiLM4dR7D2nww...|2014-01-08|onDPFgNZpMk-bT1zl...|    5|Dr. Eric Goldberg...|review|QnhQ8G51XbUpVEyWY...|[0, 0, 0]|\n",
      "|JwUE5GmEO-sH1FuwJ...|2008-07-07|I7Kte2FwXWPCwdm7i...|    4|Pretty good dinne...|review|zvNimI98mrmhgNOOr...|[0, 0, 1]|\n",
      "|JwUE5GmEO-sH1FuwJ...|2009-05-03|9uHZyOu5CTCDl1L6c...|    4|Good truck stop d...|review|p4ySEi8PEli0auZGB...|[0, 0, 0]|\n",
      "+--------------------+----------+--------------------+-----+--------------------+------+--------------------+---------+\n",
      "only showing top 10 rows"
     ]
    }
   ],
   "source": [
    "df_business=spark.read.format('json').load('s3://ahd6901-yelp-bucket/yelp_academic_dataset_business.json')\n",
    "df_review= spark.read.format('json').load('s3://ahd6901-yelp-bucket/yelp_academic_dataset_review.json')\n",
    "print(df_business.columns)\n",
    "df_business.show(10)\n",
    "print(df_review.columns)\n",
    "df_review.show(10)"
   ]
  },
  {
   "cell_type": "markdown",
   "id": "f84e9583-a4f0-40aa-8f25-960ea102aafa",
   "metadata": {},
   "source": [
    "### Check for duplicates and remove if they exist. Display needed columns"
   ]
  },
  {
   "cell_type": "code",
   "execution_count": 13,
   "id": "e8dc45e5-00c6-47c1-a4ea-87933e5e4b65",
   "metadata": {
    "execution": {
     "iopub.execute_input": "2022-10-12T04:53:54.139949Z",
     "iopub.status.busy": "2022-10-12T04:53:54.139676Z",
     "iopub.status.idle": "2022-10-12T04:54:07.466047Z",
     "shell.execute_reply": "2022-10-12T04:54:07.465305Z",
     "shell.execute_reply.started": "2022-10-12T04:53:54.139921Z"
    },
    "tags": []
   },
   "outputs": [
    {
     "data": {
      "application/vnd.jupyter.widget-view+json": {
       "model_id": "4afd3c442f6041a9ba2e93b4a9a012be",
       "version_major": 2,
       "version_minor": 0
      },
      "text/plain": [
       "VBox()"
      ]
     },
     "metadata": {},
     "output_type": "display_data"
    },
    {
     "data": {
      "application/vnd.jupyter.widget-view+json": {
       "model_id": "",
       "version_major": 2,
       "version_minor": 0
      },
      "text/plain": [
       "FloatProgress(value=0.0, bar_style='info', description='Progress:', layout=Layout(height='25px', width='50%'),…"
      ]
     },
     "metadata": {},
     "output_type": "display_data"
    },
    {
     "name": "stdout",
     "output_type": "stream",
     "text": [
      "+--------------------+--------------------+--------------------+\n",
      "|         business_id|                name|          categories|\n",
      "+--------------------+--------------------+--------------------+\n",
      "|vcNAWiLM4dR7D2nww...|   Eric Goldberg, MD|[Doctors, Health ...|\n",
      "|JwUE5GmEO-sH1FuwJ...|Pine Cone Restaurant|       [Restaurants]|\n",
      "|uGykseHzyS5xAMWoN...|Deforest Family R...|[American (Tradit...|\n",
      "|LRKJF43s9-3jG9Lgx...|            Culver's|[Food, Ice Cream ...|\n",
      "|RgDg-k9S5YD_BaxMc...|Chang Jiang Chine...|[Chinese, Restaur...|\n",
      "|oLctHIA1AxmsgOuu4...|Charter Communica...|[Television Stati...|\n",
      "|ZW2WeP2Hp20tq0RG1...| Air Quality Systems|[Home Services, H...|\n",
      "|95p9Xg358BezJyk1w...|McFarland Public ...|[Libraries, Publi...|\n",
      "|rdAdANPNOcvUtoFgc...|Green Lantern Res...|[American (Tradit...|\n",
      "|ZlhAvs_6ryi4_efZ1...|Spartan Animal Ho...|[Veterinarians, P...|\n",
      "|_wZTYYL7cutanzAnJ...|Beach House Resta...|[Bars, American (...|\n",
      "|XrzTVrJAjs0yYLvhF...|Parsonage Bed & B...|[Hotels & Travel,...|\n",
      "|1tkeiIa-daD8LbM6m...|        Spartan Bowl|[Active Life, Bow...|\n",
      "|zOc8lbjViUZajbY7M...|       Spartan Pizza|[Pizza, Restaurants]|\n",
      "|UgjVZTSOaYoEvws_l...|Main Moon Chinese...|[Chinese, Restaur...|\n",
      "|HxPpZSY6Q1eARuiah...|Crandalls Carryou...|[Event Planning &...|\n",
      "|SKLw05kEIlZcpTD5p...|Imperial Garden C...|[Party & Event Pl...|\n",
      "|77ESrCo7hQ96VpCWW...|           Mi Cocina|[Mexican, Restaur...|\n",
      "|9brW55Vzyi3ItboHW...|      Zimbrick Acura|[Auto Repair, Aut...|\n",
      "|368m5-RtrrYWf4hPM...|  Keva Sports Center|[Active Life, Art...|\n",
      "+--------------------+--------------------+--------------------+\n",
      "only showing top 20 rows"
     ]
    }
   ],
   "source": [
    "if df_review.count() > df_review.dropDuplicates(['text']).count():\n",
    "    df_review=df_review.dropDuplicates(['text'])\n",
    "df_business[['business_id', 'name', 'categories']].show()"
   ]
  },
  {
   "cell_type": "markdown",
   "id": "c8954e87-7c32-4161-8d19-95b4a9ad1314",
   "metadata": {},
   "source": [
    "### Find businesses that only serve either Vietnamese, Chinese, or Thai cuisine"
   ]
  },
  {
   "cell_type": "code",
   "execution_count": 14,
   "id": "deb1126f-d518-46be-9f98-d68ebf71d70b",
   "metadata": {
    "execution": {
     "iopub.execute_input": "2022-10-12T04:54:13.819860Z",
     "iopub.status.busy": "2022-10-12T04:54:13.819627Z",
     "iopub.status.idle": "2022-10-12T04:54:17.481726Z",
     "shell.execute_reply": "2022-10-12T04:54:17.477733Z",
     "shell.execute_reply.started": "2022-10-12T04:54:13.819836Z"
    },
    "tags": []
   },
   "outputs": [
    {
     "data": {
      "application/vnd.jupyter.widget-view+json": {
       "model_id": "2ef89c536b3945bc9b671ccffe3a3c0f",
       "version_major": 2,
       "version_minor": 0
      },
      "text/plain": [
       "VBox()"
      ]
     },
     "metadata": {},
     "output_type": "display_data"
    },
    {
     "data": {
      "application/vnd.jupyter.widget-view+json": {
       "model_id": "",
       "version_major": 2,
       "version_minor": 0
      },
      "text/plain": [
       "FloatProgress(value=0.0, bar_style='info', description='Progress:', layout=Layout(height='25px', width='50%'),…"
      ]
     },
     "metadata": {},
     "output_type": "display_data"
    },
    {
     "name": "stdout",
     "output_type": "stream",
     "text": [
      "#Businesses serve only Vietnamese cusine:  130\n",
      "#Businesses serve only Chinese cusine:  950\n",
      "#Businesses serve only Thai cusine:  258"
     ]
    }
   ],
   "source": [
    "def get_fusion_business(cuisine_a, cuisine_b, cusine_exclude):\n",
    "    return df_business.filter(fn.array_contains(df_business.categories, cuisine_a)\n",
    "                              & fn.array_contains(df_business.categories, cuisine_b)\n",
    "                              & ~fn.array_contains(df_business.categories, cuisine_exclude)).select('business_id', 'name').distinct()\n",
    "def get_business_df(main_cuisine,b,c):\n",
    "    return df_business.filter(fn.array_contains(df_business.categories, main_cuisine) \n",
    "                              & ~fn.array_contains(df_business.categories, b)\n",
    "                              & ~fn.array_contains(df_business.categories, c)).select('business_id','name').distinct()\n",
    "df_viet_business= get_business_df('Vietnamese','Chinese','Thai')\n",
    "df_chinese_business=get_business_df('Chinese','Vietnamese','Thai')\n",
    "df_thai_business=get_business_df('Thai','Vietnamese','Chinese')\n",
    "print('#Businesses serve only Vietnamese cusine: ', df_viet_business.count())\n",
    "print('#Businesses serve only Chinese cusine: ', df_chinese_business.count())\n",
    "print('#Businesses serve only Thai cusine: ', df_thai_business.count())\n"
   ]
  },
  {
   "cell_type": "markdown",
   "id": "97a913a8-8281-4ff2-92ba-3293a2524850",
   "metadata": {},
   "source": [
    "### Find each cuisine reviews"
   ]
  },
  {
   "cell_type": "code",
   "execution_count": 21,
   "id": "df8ae473-979c-4d36-b3cc-a36d99db437a",
   "metadata": {
    "execution": {
     "iopub.execute_input": "2022-10-12T05:03:32.213155Z",
     "iopub.status.busy": "2022-10-12T05:03:32.212925Z",
     "iopub.status.idle": "2022-10-12T05:03:49.535776Z",
     "shell.execute_reply": "2022-10-12T05:03:49.535015Z",
     "shell.execute_reply.started": "2022-10-12T05:03:32.213130Z"
    },
    "tags": []
   },
   "outputs": [
    {
     "data": {
      "application/vnd.jupyter.widget-view+json": {
       "model_id": "cf5d010a938d4bb4ad02b0905f6b2136",
       "version_major": 2,
       "version_minor": 0
      },
      "text/plain": [
       "VBox()"
      ]
     },
     "metadata": {},
     "output_type": "display_data"
    },
    {
     "data": {
      "application/vnd.jupyter.widget-view+json": {
       "model_id": "",
       "version_major": 2,
       "version_minor": 0
      },
      "text/plain": [
       "FloatProgress(value=0.0, bar_style='info', description='Progress:', layout=Layout(height='25px', width='50%'),…"
      ]
     },
     "metadata": {},
     "output_type": "display_data"
    },
    {
     "name": "stdout",
     "output_type": "stream",
     "text": [
      "+--------------------+--------------------+--------------------+\n",
      "|         business_id|                name|                text|\n",
      "+--------------------+--------------------+--------------------+\n",
      "|3OauvrqUU8nDLWcW6...|        Viet Kitchen|\"Buyer beware\"  \n",
      "...|\n",
      "|r0ZoytDjK4CY5ytFN...|             Kinh Do|$3 Banh Mi beats ...|\n",
      "|fCkgtZUUM5qmU_-KW...| Pho Hung Restaurant|....... ? this is...|\n",
      "|CMTDZRDnv_O0rwAvR...|BlueMoon Vietname...|1) Decent tasting...|\n",
      "|tqDwpyCB53TiEIv91...|           Pho Avina|3.5 *\n",
      "The lady wh...|\n",
      "|jtzhY-P4H6WSYpv5r...|          Rice Paper|90-ish year old s...|\n",
      "|lHRc-t5EmkY9ejWix...|         Viet Bistro|A few years ago, ...|\n",
      "|lHRc-t5EmkY9ejWix...|         Viet Bistro|After enjoying th...|\n",
      "|Zq-yfLJYy7245p-O8...|         Viet Bistro|After reading the...|\n",
      "|17FKJgS11HppOf00q...|     Lemongrass Café|After searching o...|\n",
      "+--------------------+--------------------+--------------------+\n",
      "only showing top 10 rows"
     ]
    }
   ],
   "source": [
    "def get_reviews(b_df):\n",
    "    return b_df.join(df_review,df_review.business_id ==  b_df.business_id,\"inner\").select(df_review.business_id, b_df.name, df_review.text)\n",
    "viet_cuisine_reviews=get_reviews(df_viet_business)\n",
    "chinese_cuisine_reviews=get_reviews(df_chinese_business)\n",
    "chinese_thai_reviews=get_reviews(df_thai_business)\n",
    "viet_cuisine_reviews.show(10)"
   ]
  },
  {
   "cell_type": "markdown",
   "id": "be19f444-1954-4f42-897f-9a9bdb0b05f4",
   "metadata": {},
   "source": [
    "### Detect each review's sentiment"
   ]
  },
  {
   "cell_type": "code",
   "execution_count": 24,
   "id": "40eacef0-1ad0-40d4-81be-a4e483eef272",
   "metadata": {
    "execution": {
     "iopub.execute_input": "2022-10-12T05:17:37.664084Z",
     "iopub.status.busy": "2022-10-12T05:17:37.663845Z",
     "iopub.status.idle": "2022-10-12T05:18:37.113232Z",
     "shell.execute_reply": "2022-10-12T05:18:37.112444Z",
     "shell.execute_reply.started": "2022-10-12T05:17:37.664059Z"
    },
    "tags": []
   },
   "outputs": [
    {
     "data": {
      "application/vnd.jupyter.widget-view+json": {
       "model_id": "ae81b7f71029448cbfd44ff28b06da07",
       "version_major": 2,
       "version_minor": 0
      },
      "text/plain": [
       "VBox()"
      ]
     },
     "metadata": {},
     "output_type": "display_data"
    },
    {
     "data": {
      "application/vnd.jupyter.widget-view+json": {
       "model_id": "",
       "version_major": 2,
       "version_minor": 0
      },
      "text/plain": [
       "FloatProgress(value=0.0, bar_style='info', description='Progress:', layout=Layout(height='25px', width='50%'),…"
      ]
     },
     "metadata": {},
     "output_type": "display_data"
    },
    {
     "name": "stdout",
     "output_type": "stream",
     "text": [
      "+--------------------+---------+\n",
      "|                text|sentiment|\n",
      "+--------------------+---------+\n",
      "|\"Buyer beware\"  \n",
      "...| NEGATIVE|\n",
      "|$3 Banh Mi beats ...| POSITIVE|\n",
      "|....... ? this is...| POSITIVE|\n",
      "|1) Decent tasting...|    MIXED|\n",
      "|3.5 *\n",
      "The lady wh...| POSITIVE|\n",
      "|90-ish year old s...| POSITIVE|\n",
      "|A few years ago, ...| POSITIVE|\n",
      "|After enjoying th...| POSITIVE|\n",
      "|After reading the...|    MIXED|\n",
      "|After searching o...| NEGATIVE|\n",
      "|All I can say is ...| POSITIVE|\n",
      "|All I could say i...| POSITIVE|\n",
      "|All of the Vietna...| POSITIVE|\n",
      "|Although this Vie...| POSITIVE|\n",
      "|Am I allowed to j...| NEGATIVE|\n",
      "+--------------------+---------+\n",
      "only showing top 15 rows"
     ]
    }
   ],
   "source": [
    "def get_sentiment(text):\n",
    "    comprehend=boto3.client('comprehend', region_name='us-east-1')\n",
    "    res=comprehend.detect_sentiment(Text=text, LanguageCode='en')\n",
    "    comprehend.close()\n",
    "    return res['Sentiment']\n",
    "def get_sentiment_df(review_df):\n",
    "    sentiment_rdd= review_df.rdd.map(lambda x:(x[2], get_sentiment(x[2])))\n",
    "    return sentiment_rdd.toDF(['text', 'sentiment'])\n",
    "\n",
    "viet_cusine_sentiment= get_sentiment_df(viet_cuisine_reviews)\n",
    "viet_cusine_sentiment.show(15)\n",
    "chinese_cusine_sentiment= get_sentiment_df(chinese_cuisine_reviews)\n",
    "thai_cusine_sentiment= get_sentiment_df(chinese_thai_reviews)"
   ]
  },
  {
   "cell_type": "markdown",
   "id": "1c7a4625-5176-4952-bf7f-d7938b18d03d",
   "metadata": {},
   "source": [
    "### Load results to a new DataFrame and save it as a CSV file in S3 bucket "
   ]
  },
  {
   "cell_type": "code",
   "execution_count": 27,
   "id": "3bbe6d2f-6f4d-454c-bb1a-b2df0d572d7a",
   "metadata": {
    "execution": {
     "iopub.execute_input": "2022-10-12T05:23:01.737092Z",
     "iopub.status.busy": "2022-10-12T05:23:01.736851Z",
     "iopub.status.idle": "2022-10-12T05:42:54.383153Z",
     "shell.execute_reply": "2022-10-12T05:42:54.382434Z",
     "shell.execute_reply.started": "2022-10-12T05:23:01.737067Z"
    },
    "tags": []
   },
   "outputs": [
    {
     "data": {
      "application/vnd.jupyter.widget-view+json": {
       "model_id": "30a0a09e799b4b15afff7ac9098d9cfa",
       "version_major": 2,
       "version_minor": 0
      },
      "text/plain": [
       "VBox()"
      ]
     },
     "metadata": {},
     "output_type": "display_data"
    },
    {
     "data": {
      "application/vnd.jupyter.widget-view+json": {
       "model_id": "",
       "version_major": 2,
       "version_minor": 0
      },
      "text/plain": [
       "FloatProgress(value=0.0, bar_style='info', description='Progress:', layout=Layout(height='25px', width='50%'),…"
      ]
     },
     "metadata": {},
     "output_type": "display_data"
    },
    {
     "name": "stdout",
     "output_type": "stream",
     "text": [
      "+----------+------------------+--------------------+---------------------+---------------------+------------------+\n",
      "|   Cuisine|mixed_review_count|neutral_review_count|negative_review_count|positive_review_count|total_review_count|\n",
      "+----------+------------------+--------------------+---------------------+---------------------+------------------+\n",
      "|Vietnamese|              1821|                  68|                 1432|                 6134|              9454|\n",
      "|   Chinese|              6876|                 272|                 6504|                20396|             34045|\n",
      "|      Thai|              3063|                  90|                 2041|                11894|             17090|\n",
      "+----------+------------------+--------------------+---------------------+---------------------+------------------+"
     ]
    }
   ],
   "source": [
    "columns=['Cuisine', 'mixed_review_count', 'neutral_review_count', 'negative_review_count', 'positive_review_count', 'total_review_count']\n",
    "data=[]\n",
    "def create_row(cuisine_name, df_sentiment):\n",
    "    row=[cuisine_name]\n",
    "    data_collect= df_sentiment.groupBy('sentiment').count().collect()\n",
    "    for r in data_collect:\n",
    "        row.append(r['count'])\n",
    "    row.append(df_sentiment.count())\n",
    "    return row\n",
    "data.append(create_row('Vietnamese', viet_cusine_sentiment))\n",
    "data.append(create_row('Chinese', chinese_cusine_sentiment))\n",
    "data.append(create_row('Thai', thai_cusine_sentiment))\n",
    "rdd= spark.sparkContext.parallelize(data)\n",
    "result_df= rdd.toDF(columns)\n",
    "result_df.show()"
   ]
  },
  {
   "cell_type": "code",
   "execution_count": 28,
   "id": "1d08c484-5f9e-4c06-81af-bf874fd3deb2",
   "metadata": {
    "execution": {
     "iopub.execute_input": "2022-10-12T05:45:24.463495Z",
     "iopub.status.busy": "2022-10-12T05:45:24.463194Z",
     "iopub.status.idle": "2022-10-12T05:45:39.790785Z",
     "shell.execute_reply": "2022-10-12T05:45:39.790198Z",
     "shell.execute_reply.started": "2022-10-12T05:45:24.463453Z"
    }
   },
   "outputs": [
    {
     "data": {
      "application/vnd.jupyter.widget-view+json": {
       "model_id": "3b39f1dc59a64219a199dd7ae8812023",
       "version_major": 2,
       "version_minor": 0
      },
      "text/plain": [
       "VBox()"
      ]
     },
     "metadata": {},
     "output_type": "display_data"
    },
    {
     "data": {
      "application/vnd.jupyter.widget-view+json": {
       "model_id": "",
       "version_major": 2,
       "version_minor": 0
      },
      "text/plain": [
       "FloatProgress(value=0.0, bar_style='info', description='Progress:', layout=Layout(height='25px', width='50%'),…"
      ]
     },
     "metadata": {},
     "output_type": "display_data"
    }
   ],
   "source": [
    "result_df.coalesce(1)\\\n",
    "                    .write.format('csv').option(\"header\", \"true\")\\\n",
    "                    . save(\"s3://ahd6901-yelp-bucket/result2/\")"
   ]
  }
 ],
 "metadata": {
  "kernelspec": {
   "display_name": "PySpark",
   "language": "",
   "name": "pysparkkernel"
  },
  "language_info": {
   "codemirror_mode": {
    "name": "python",
    "version": 3
   },
   "mimetype": "text/x-python",
   "name": "pyspark",
   "pygments_lexer": "python3"
  }
 },
 "nbformat": 4,
 "nbformat_minor": 5
}
